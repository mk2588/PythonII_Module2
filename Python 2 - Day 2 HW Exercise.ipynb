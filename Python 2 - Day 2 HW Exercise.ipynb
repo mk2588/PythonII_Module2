{
 "cells": [
  {
   "cell_type": "markdown",
   "metadata": {},
   "source": [
    "# OOP - Composition, Encapsulation, & Inheritance"
   ]
  },
  {
   "cell_type": "markdown",
   "metadata": {},
   "source": [
    "## Exercise 1: \n",
    "Create a Temperature Converter program using OOP by creating a Temperature class with two private attributes to store Fahrenheit and Celsius degrees. In the Temperature class, define methods that \n",
    "- sets the private attributes. When you set one unit of temperature, it should calculate and set the other unit of temperature. For example, when you set degrees in Fahrenheit, it should calculate and set in Celsius degrees. \n",
    "- gets the hidden attributes that round the number to 2 decimal places. \n",
    "\n",
    "The output should look something like following:\n",
    "\n",
    "    MENU\n",
    "    1. Fahrenheit to Celsius\n",
    "    2. Celsius to Fahrenheit\n",
    "    3. Quit\n",
    "    \n",
    "    Enter a menu option: 1\n",
    "    Enter degrees in Fahrenheit: 99\n",
    "    99.00 oF is 37.22 oC.\n",
    "    \n",
    "    Enter a menu option: 2\n",
    "    Enter degrees in Celsius: 37.22\n",
    "    37.22 oC is 99.00 oF.\n",
    "    \n",
    "    Enter a menu option: 3\n",
    "    Bye\n"
   ]
  },
  {
   "cell_type": "code",
   "execution_count": null,
   "metadata": {},
   "outputs": [],
   "source": [
    "class Temperature:\n",
    "    def __init__(self):\n",
    "        # while degree != 1 or degree != 2:\n",
    "            # degree = int(input(\"Please enter a valid degree value, F is 1, C is 2\"))\n",
    "        self.__fahrenheit = 0.0\n",
    "        self.__celsius = 0.0\n",
    "    def convert_to_f(self, celsius):\n",
    "        self.__celsius = celsius\n",
    "        self.__fahrenheit = (celsius * (9/5)) + 32\n",
    "    def convert_to_c(self, fahrenheit): \n",
    "        self.__fahrenheit = fahrenheit\n",
    "        self.__celsius = (fahrenheit - 32) * (5/9)\n",
    "    def get_celsius(self):\n",
    "        return round(self.__celsius, 2)\n",
    "    def get_fahrenheit(self):\n",
    "        return round(self.__fahrenheit, 2)"
   ]
  },
  {
   "cell_type": "code",
   "execution_count": null,
   "metadata": {},
   "outputs": [
    {
     "name": "stdout",
     "output_type": "stream",
     "text": [
      "MENU\n",
      "\n",
      "1. Fahrenheit to Celsius\n",
      "\n",
      "2. Celsius to Fahrenheit\n",
      "\n",
      "3. Quit\n"
     ]
    },
    {
     "name": "stdin",
     "output_type": "stream",
     "text": [
      "Enter a menu option:  1\n",
      "Enter degrees in Fahrenheit:  30\n"
     ]
    },
    {
     "name": "stdout",
     "output_type": "stream",
     "text": [
      "30.0 oF is 30.0 oC\n",
      "MENU\n",
      "\n",
      "1. Fahrenheit to Celsius\n",
      "\n",
      "2. Celsius to Fahrenheit\n",
      "\n",
      "3. Quit\n"
     ]
    }
   ],
   "source": [
    "def display():\n",
    "    print(\"MENU\\n\")\n",
    "    print(\"1. Fahrenheit to Celsius\\n\")\n",
    "    print(\"2. Celsius to Fahrenheit\\n\")\n",
    "    print(\"3. Quit\")\n",
    "\n",
    "again = True\n",
    "temp_calc = Temperature()\n",
    "\n",
    "while again:\n",
    "    display()\n",
    "    command = input(\"Enter a menu option: \")\n",
    "    if command == \"1\":\n",
    "        fahrenheit = float(input(\"Enter degrees in Fahrenheit: \"))\n",
    "        temp_calc.convert_to_f(fahrenheit)\n",
    "        print(f\"{fahrenheit} oF is {temp_calc.get_celsius()} oC\")\n",
    "    elif command == \"2\":\n",
    "        celsius = float(input(\"Enter degrees in Celsius: \"))\n",
    "        print(f\"{celsius} oC is {temp_calc.get_fahrenheit()} oF\")\n",
    "    elif command == \"3\":\n",
    "        print(\"Bye\")\n",
    "        again = False\n",
    "    else:\n",
    "        continue # goes to the top of the program and the user will see the menu again\n",
    "# There's something wrong with the program but I'm not entirely sure where "
   ]
  },
  {
   "cell_type": "markdown",
   "metadata": {},
   "source": [
    "## Exercise 2: \n",
    "Create a <b>Privileges</b> class that has privileges, a private attribute. It can store a list of strings such as \"can add\", \"can delete\", and \"can modify\".  Write a method called show_privileges(). \n",
    "\n",
    "Create a class called <b>Admin</b> that inherits from the <b>Person</b> class (see next cell). Make a Privileges instance as an attribute in the Admin class. Create a new instance of Admin and use your method to show its privileges.\n"
   ]
  },
  {
   "cell_type": "code",
   "execution_count": 34,
   "metadata": {},
   "outputs": [],
   "source": [
    "class Person :\n",
    "    \n",
    "    def __init__(self, name, age, gender) :\n",
    "        self.__name = name\n",
    "        self.__age = age\n",
    "        self.__gender = gender\n",
    "\n",
    "    def get_name(self) :\n",
    "        return self.__name\n",
    "    \n",
    "    def get_info(self) :\n",
    "        return f\"Name: {self.__name}\\nAge: {self.__age}\\nGender: {self.__gender}\"\n",
    "       "
   ]
  },
  {
   "cell_type": "code",
   "execution_count": 37,
   "metadata": {},
   "outputs": [
    {
     "name": "stdout",
     "output_type": "stream",
     "text": [
      "-can add\n",
      "\n",
      "-can add\n",
      "-can modify\n",
      "\n"
     ]
    }
   ],
   "source": [
    "class Privileges:\n",
    "    def __init__(self):\n",
    "        self.__privileges = []\n",
    "    def show_privileges(self):\n",
    "        msg = \"\" # single variable to store all the information on privileges\n",
    "        for priv in self.__privileges:\n",
    "            msg += \"-\" + priv + \"\\n\"\n",
    "        return msg\n",
    "    def add_privilege(self, priv):\n",
    "        self.__privileges.append(priv)\n",
    "        \n",
    "class Admin(Person):\n",
    "    def __init__(self, name, age, gender):\n",
    "        super().__init__(name, age, gender)\n",
    "        self.privileges = Privileges()\n",
    "    def add_privilege(self, priv):\n",
    "        self.privileges.add_privilege(priv)\n",
    "\n",
    "admin = Admin(\"Pepe\", 20, \"M\")\n",
    "admin.privileges.add_privilege(\"can add\")\n",
    "print(admin.privileges.show_privileges())\n",
    "admin.add_privilege(\"can modify\")\n",
    "print(admin.privileges.show_privileges())"
   ]
  },
  {
   "cell_type": "markdown",
   "metadata": {},
   "source": [
    "## Exercise 3:\n",
    "1. Use the Product class from next cell\n",
    "2. Add get_description() method to Product class\n",
    "3. Create Book class inherited from the Product class. Add author attribute to the Book class and make modification to get_description() method\n",
    "4. Create Movie class inherited from the Product class. Add year attributes. Add/modify necessary methods"
   ]
  },
  {
   "cell_type": "code",
   "execution_count": 53,
   "metadata": {},
   "outputs": [],
   "source": [
    "# From Day 1 Class Demo\n",
    "class Product : \n",
    "    \"\"\"A simple attempt to model a product.\"\"\"\n",
    "    \n",
    "    def __init__(self, name, price, discount_rate):\n",
    "        \"\"\"Initialize name, price, and discount_rate attributes\"\"\"\n",
    "        self.name = name\n",
    "        self.price = price\n",
    "        self.discount_rate = discount_rate    \n",
    "        \n",
    "    def get_discount_amount(self) :\n",
    "        \"\"\"Computes a discount calculation\"\"\"\n",
    "        return self.price * self.discount_rate / 100 \n",
    "        \n",
    "    def get_info(self) :\n",
    "        return(f\"Name: {self.name}\\n\" + \n",
    "                f\"Price: {self.price}\\n\" +\n",
    "                f\"Disicount Amount: ${self.get_discount_amount():,.2f}\\n\" +\n",
    "                f\"Discounted Price: ${self.get_sale_price():,.2f}\")\n",
    "    \n",
    "    def get_sale_price(self) :\n",
    "        \"\"\"Calls another method to find a sale price\"\"\"\n",
    "        return self.price - self.get_discount_amount()\n",
    "        \n",
    "    def get_description(self):\n",
    "        return f\"A product called {self.name} with a final price of ${self.get_sale_price():.2f}\""
   ]
  },
  {
   "cell_type": "code",
   "execution_count": 54,
   "metadata": {},
   "outputs": [],
   "source": [
    "class Book(Product):\n",
    "    def __init__(self, name, price, discount_rate, author):\n",
    "        super().__init__(name, price, discount_rate)\n",
    "        self.author = author\n",
    "    def get_desc(self):\n",
    "        msg = super().get_description()\n",
    "        msg = msg.replace(\"product\", f\"book by {self.author}\")\n",
    "        return msg\n",
    "\n",
    "class Movie(Product):\n",
    "    def __init__(self, name, price, discount_rate, year):\n",
    "        super().__init__(name, price, discount_rate)\n",
    "        self.year = year\n",
    "    def get_desc(self):\n",
    "        msg = super().get_description()\n",
    "        msg = msg.replace(\"product\", f\"movie from {self.year}\")\n",
    "        return msg"
   ]
  },
  {
   "cell_type": "code",
   "execution_count": 55,
   "metadata": {},
   "outputs": [
    {
     "name": "stdout",
     "output_type": "stream",
     "text": [
      "Name: product 1\n",
      "Price: 100\n",
      "Disicount Amount: $25.00\n",
      "Discounted Price: $75.00\n",
      "A product called product 1 with a final price of $75.00\n",
      "\n",
      "Name: The Old Man and the Sea\n",
      "Price: 35\n",
      "Disicount Amount: $3.50\n",
      "Discounted Price: $31.50\n",
      "A product called The Old Man and the Sea with a final price of $31.50\n",
      "------------\n",
      "Name: Star Wars\n",
      "Price: 30\n",
      "Disicount Amount: $7.50\n",
      "Discounted Price: $22.50\n",
      "A product called Star Wars with a final price of $22.50\n"
     ]
    }
   ],
   "source": [
    "p1 = Product(\"product 1\", 100, 25)\n",
    "print(p1.get_info())\n",
    "print(p1.get_description())\n",
    "print()\n",
    "b1 = Book(\"The Old Man and the Sea\", 35, 10, \"Hemingway\")\n",
    "print(b1.get_info())\n",
    "print(b1.get_description())\n",
    "print(\"-\" * 12)\n",
    "m1 = Movie(\"Star Wars\", 30, 25, 1977)\n",
    "print(m1.get_info())\n",
    "print(m1.get_description())"
   ]
  },
  {
   "cell_type": "markdown",
   "metadata": {},
   "source": [
    "## Exercise 4\n",
    "Create a <b>MyDate</b> class with month, day, year, hour, minute, and second <b>private attributes</b>.  Create an initialization method that takes a string in the format of \"mm-dd-yyyy hh:mm:ss\". Also create necessary public methods as needed.  \n",
    "\n",
    "Then, run below program to show your class works:\n",
    "\n",
    "    today = MyDate(\"10-10-2020 12:11:22\")\n",
    "    print(today.get_datetime())\n",
    "    today.set_datetime(\"11-31-1999 02:33:22\")\n",
    "    print(today.get_datetime())\n",
    "    print(today.get_datetime(month_first=False))"
   ]
  },
  {
   "cell_type": "code",
   "execution_count": 56,
   "metadata": {},
   "outputs": [],
   "source": [
    "class MyDate:\n",
    "    def __init__(self, full_date):\n",
    "        date_time = full_date.split(\" \")\n",
    "        date = date_time[0]\n",
    "        time = date_time[1]\n",
    "        \n",
    "        temp_date = date.split(\"-\")\n",
    "        self.__month = temp_date[0]\n",
    "        self.__day = temp_date[1]\n",
    "        self.__yr = temp_date[2]\n",
    "        \n",
    "        temp_time = time.split(\":\")\n",
    "        self.__hr = temp_time[0]\n",
    "        self.__min = temp_time[1]\n",
    "        self.__sec = temp_time[2]\n",
    "        \n",
    "    def get_datetime(self, month_first = True): # when printing datetime, show the month first or not\n",
    "        if month_first: # if month_first == True\n",
    "            return f\"{self.__month}-{self.__day}-{self.__yr} {self.__hr}:{self.__min}:{self.__sec}\"\n",
    "        else:\n",
    "            return f\"{self.__day}-{self.__month}-{self.__yr} {self.__hr}:{self.__min}:{self.__sec}\"\n",
    "    \n",
    "    def set_datetime(self, datetime):\n",
    "        self.__init__(datetime)"
   ]
  },
  {
   "cell_type": "code",
   "execution_count": 57,
   "metadata": {},
   "outputs": [
    {
     "name": "stdout",
     "output_type": "stream",
     "text": [
      "10-10-2020 12:11:22\n",
      "11-31-1999 02:33:22\n",
      "31-11-1999 02:33:22\n"
     ]
    }
   ],
   "source": [
    "# main program\n",
    "today = MyDate(\"10-10-2020 12:11:22\")\n",
    "print(today.get_datetime())\n",
    "today.set_datetime(\"11-31-1999 02:33:22\")\n",
    "print(today.get_datetime())\n",
    "print(today.get_datetime(month_first=False))"
   ]
  },
  {
   "cell_type": "markdown",
   "metadata": {},
   "source": [
    "## Challenge\n",
    "\n",
    "Modify <b>MyDate</b> class: \n",
    "\n",
    "    - to validate date & time (for month, days, hour, minute, and second). \n",
    "    - to add days\n",
    "    - to add hours"
   ]
  },
  {
   "cell_type": "code",
   "execution_count": null,
   "metadata": {},
   "outputs": [],
   "source": []
  }
 ],
 "metadata": {
  "kernelspec": {
   "display_name": "Python 3",
   "language": "python",
   "name": "python3"
  },
  "language_info": {
   "codemirror_mode": {
    "name": "ipython",
    "version": 3
   },
   "file_extension": ".py",
   "mimetype": "text/x-python",
   "name": "python",
   "nbconvert_exporter": "python",
   "pygments_lexer": "ipython3",
   "version": "3.8.8"
  }
 },
 "nbformat": 4,
 "nbformat_minor": 4
}
